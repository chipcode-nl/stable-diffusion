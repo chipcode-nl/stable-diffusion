{
 "cells": [
  {
   "cell_type": "code",
   "execution_count": null,
   "metadata": {},
   "outputs": [],
   "source": [
    "!pip3 install jupyter ipykernel ipywidgets\n",
    "!pip3 install torch numpy diffusers transformers scipy ftfy accelerate"
   ]
  },
  {
   "cell_type": "code",
   "execution_count": null,
   "metadata": {},
   "outputs": [],
   "source": [
    "import os \n",
    "import torch\n",
    "from diffusers import StableDiffusionPipeline\n",
    "\n",
    "cache_dir = \"cache.tmp\"\n",
    "os.makedirs(cache_dir, exist_ok=True)\n",
    "os.makedirs(\"output.tmp\", exist_ok=True)\n",
    "\n",
    "model_name = \"runwayml/stable-diffusion-v1-5\"\n",
    "pipe = StableDiffusionPipeline.from_pretrained(model_name, cache_dir= cache_dir)\n",
    "\n",
    "if torch.backends.mps.is_available() and torch.backends.mps.is_built():\n",
    "    # PyTorch device is Apple Metal Performance Shaders (mps)\n",
    "    device = \"mps\"\n",
    "elif torch.cuda.is_available():\n",
    "    # PyTorch device is CUDA GPU \n",
    "    device = \"cuda\"\n",
    "else:\n",
    "    # PyTorch device is CPU  \n",
    "    device = \"cpu\"\n",
    "\n",
    "pipe.to(device)\n",
    "device \n"
   ]
  },
  {
   "cell_type": "code",
   "execution_count": null,
   "metadata": {},
   "outputs": [],
   "source": [
    "prompt = \"Sailing ship in storm by Leonardo da Vinci\"\n",
    "negative_prompt = \"ugly, tiling, poorly drawn hands, poorly drawn feet, poorly drawn face, out of frame, mutation, mutated, extra limbs, extra legs, extra arms, disfigured, deformed, cross-eye, body out of frame, blurry, bad art, bad anatomy, blurred, text, watermark, grainy\"\n",
    "width = 512\n",
    "height = 512\n",
    "guidance_scale = 7\n",
    "steps = 50\n",
    "seed = 1\n",
    "\n",
    "\n",
    "generator = torch.Generator(\"cpu\").manual_seed(seed)\n",
    "image = pipe(\n",
    "    prompt= prompt, \n",
    "    negative_prompt=negative_prompt, \n",
    "    width=width, height=height, \n",
    "    guidance_scale=guidance_scale, \n",
    "    num_inference_steps=steps,\n",
    "    generator= generator\n",
    "    ).images[0]\n",
    "\n",
    "image.save(\"output.tmp/sailing_ship_v1_5_512x512.png\")\n",
    "image "
   ]
  }
 ],
 "metadata": {
  "kernelspec": {
   "display_name": "torch-gpu",
   "language": "python",
   "name": "python3"
  },
  "language_info": {
   "codemirror_mode": {
    "name": "ipython",
    "version": 3
   },
   "file_extension": ".py",
   "mimetype": "text/x-python",
   "name": "python",
   "nbconvert_exporter": "python",
   "pygments_lexer": "ipython3",
   "version": "3.9.6"
  },
  "orig_nbformat": 4
 },
 "nbformat": 4,
 "nbformat_minor": 2
}
